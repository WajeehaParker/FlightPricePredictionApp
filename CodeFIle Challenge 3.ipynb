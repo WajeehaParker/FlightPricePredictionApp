{
 "cells": [
  {
   "cell_type": "code",
   "execution_count": 36,
   "metadata": {},
   "outputs": [],
   "source": [
    "from sklearn.ensemble import VotingRegressor, GradientBoostingRegressor\n",
    "from xgboost import XGBRegressor\n",
    "import lightgbm as lgb\n",
    "import pandas as pd\n",
    "import numpy as np\n",
    "from sklearn.metrics import mean_squared_error, r2_score\n",
    "import pickle\n",
    "import dice_ml\n",
    "from sklearn.preprocessing import OneHotEncoder"
   ]
  },
  {
   "cell_type": "code",
   "execution_count": 2,
   "metadata": {},
   "outputs": [],
   "source": [
    "df = pd.read_csv(\"DataSets/X_train.csv\")\n",
    "dft = pd.read_csv(\"DataSets/X_test.csv\")"
   ]
  },
  {
   "cell_type": "code",
   "execution_count": 3,
   "metadata": {},
   "outputs": [],
   "source": [
    "df['flight_code']=df.flight.apply(lambda x: x.split(\"-\")[0])\n",
    "df['flight_no']=df.flight.apply(lambda x: x.split(\"-\")[1])\n",
    "df['flight_no']=df['flight_no'].astype(int)\n",
    "dft['flight_code']=dft.flight.apply(lambda x: x.split(\"-\")[0])\n",
    "dft['flight_no']=dft.flight.apply(lambda x: x.split(\"-\")[1])\n",
    "dft['flight_no']=dft['flight_no'].astype(int)"
   ]
  },
  {
   "cell_type": "code",
   "execution_count": 4,
   "metadata": {},
   "outputs": [],
   "source": [
    "X = df.drop(columns=['flightId', 'flight', 'price'])\n",
    "X['airline']=X.airline.map(dict(Vistara=0, Air_India=1, GO_FIRST=2, Indigo=3, AirAsia=4, SpiceJet=5))\n",
    "X['source_city']=X.source_city.map(dict(Mumbai=0, Delhi=1, Bangalore=2, Kolkata=3, Hyderabad=4, Chennai=5))\n",
    "X['destination_city']=X.destination_city.map(dict(Mumbai=0, Delhi=1, Bangalore=2, Kolkata=3, Hyderabad=4, Chennai=5))\n",
    "X['departure_time']=X.departure_time.map(dict(Morning=0, Early_Morning=1, Evening=2, Night=3, Afternoon=4, Late_Night=5))\n",
    "X['arrival_time']=X.arrival_time.map(dict(Morning=0, Early_Morning=1, Evening=2, Night=3, Afternoon=4, Late_Night=5))\n",
    "X['stops']=X.stops.map(dict(zero=0, one=1, two_or_more=2))\n",
    "X['flight_code']=X.flight_code.map(dict(UK=0, AI=1, G8=2, E6=3, I5=4, SG=5))"
   ]
  },
  {
   "cell_type": "code",
   "execution_count": 5,
   "metadata": {},
   "outputs": [],
   "source": [
    "Xt = dft.drop(columns=['flightId', 'flight', 'price'])\n",
    "Xt['airline']=Xt.airline.map(dict(Vistara=0, Air_India=1, GO_FIRST=2, Indigo=3, AirAsia=4, SpiceJet=5))\n",
    "Xt['source_city']=Xt.source_city.map(dict(Mumbai=0, Delhi=1, Bangalore=2, Kolkata=3, Hyderabad=4, Chennai=5))\n",
    "Xt['destination_city']=Xt.destination_city.map(dict(Mumbai=0, Delhi=1, Bangalore=2, Kolkata=3, Hyderabad=4, Chennai=5))\n",
    "Xt['departure_time']=Xt.departure_time.map(dict(Morning=0, Early_Morning=1, Evening=2, Night=3, Afternoon=4, Late_Night=5))\n",
    "Xt['arrival_time']=Xt.arrival_time.map(dict(Morning=0, Early_Morning=1, Evening=2, Night=3, Afternoon=4, Late_Night=5))\n",
    "Xt['stops']=Xt.stops.map(dict(zero=0, one=1, two_or_more=2))\n",
    "Xt['flight_code']=Xt.flight_code.map(dict(UK=0, AI=1, G8=2, E6=3, I5=4, SG=5))"
   ]
  },
  {
   "cell_type": "code",
   "execution_count": 6,
   "metadata": {},
   "outputs": [
    {
     "name": "stderr",
     "output_type": "stream",
     "text": [
      "C:\\Users\\wajeeha.parker\\AppData\\Roaming\\Python\\Python311\\site-packages\\sklearn\\ensemble\\_gb.py:437: DataConversionWarning: A column-vector y was passed when a 1d array was expected. Please change the shape of y to (n_samples, ), for example using ravel().\n",
      "  y = column_or_1d(y, warn=True)\n"
     ]
    },
    {
     "name": "stdout",
     "output_type": "stream",
     "text": [
      "Gradient Boosting || R2 = 0.8194 and MSE = 31978343.37\n",
      "XGBoost || R2 = 0.8140 and MSE = 32941617.74\n",
      "LightGBM || R2 = 0.7928 and MSE = 36696315.08\n"
     ]
    },
    {
     "name": "stderr",
     "output_type": "stream",
     "text": [
      "C:\\Users\\wajeeha.parker\\AppData\\Roaming\\Python\\Python311\\site-packages\\sklearn\\ensemble\\_voting.py:597: DataConversionWarning: A column-vector y was passed when a 1d array was expected. Please change the shape of y to (n_samples, ), for example using ravel().\n",
      "  y = column_or_1d(y, warn=True)\n"
     ]
    },
    {
     "name": "stdout",
     "output_type": "stream",
     "text": [
      "Voting Regressor || R2 = 0.8193 and MSE = 31995161.06\n"
     ]
    }
   ],
   "source": [
    "y = df[['price']]\n",
    "\n",
    "gb=GradientBoostingRegressor(max_depth=5, max_features=4, n_estimators=2300, learning_rate=0.056, random_state=0)\n",
    "xgb=XGBRegressor(n_estimators=1300, learning_rate=0.04, n_jobs=-1)\n",
    "lgbm=lgb.LGBMRegressor(learning_rate=0.09, n_estimators=5800, max_depth=4)\n",
    "vot=VotingRegressor([('gb', gb), ('xgb', xgb), ('lgb', lgbm)])\n",
    "\n",
    "rgs = [\n",
    "    ('Gradient Boosting', gb), \n",
    "    ('XGBoost', xgb),\n",
    "    ('LightGBM', lgbm),\n",
    "    ('Voting Regressor', vot)\n",
    "]\n",
    "\n",
    "for name,rg in rgs:\n",
    "    rg.fit(X,y)\n",
    "    yt_pred = rg.predict(Xt)\n",
    "    print(\"%s || R2 = %.4f and MSE = %.2f\" % (name, r2_score(dft['price'],yt_pred), mean_squared_error(dft['price'], yt_pred)))\n",
    "\n",
    "#Gradient Boosting || R2 = 0.8194 and MSE = 31978343.37\n",
    "#XGBoost || R2 = 0.8140 and MSE = 32941617.74\n",
    "#LightGBM || R2 = 0.7928 and MSE = 36696315.08\n",
    "#Voting Regressor || R2 = 0.8193 and MSE = 31995161.06"
   ]
  },
  {
   "cell_type": "code",
   "execution_count": null,
   "metadata": {},
   "outputs": [],
   "source": [
    "#streamlit model saving\n",
    "reg=vot.fit(X,y)\n",
    "model = {\n",
    "    'model': reg,\n",
    "    'X':X\n",
    "}\n",
    "pickle.dump(model, open('flights_model.sav', 'wb'))"
   ]
  },
  {
   "cell_type": "code",
   "execution_count": 92,
   "metadata": {},
   "outputs": [
    {
     "name": "stderr",
     "output_type": "stream",
     "text": [
      "C:\\Users\\wajeeha.parker\\AppData\\Roaming\\Python\\Python311\\site-packages\\sklearn\\ensemble\\_voting.py:597: DataConversionWarning: A column-vector y was passed when a 1d array was expected. Please change the shape of y to (n_samples, ), for example using ravel().\n",
      "  y = column_or_1d(y, warn=True)\n"
     ]
    }
   ],
   "source": [
    "dfc = X\n",
    "dfc['price']=df['price']\n",
    "data = dice_ml.Data(dataframe=dfc, continuous_features=['airline', 'source_city', 'departure_time', 'stops', 'arrival_time', 'destination_city', 'duration', 'days_left', 'flight_code', 'flight_no'], outcome_name='price')\n",
    "dfc = dfc.drop(columns=['price'])\n",
    "lgbm=vot.fit(dfc,y)\n",
    "model = dice_ml.Model(model=lgbm, backend='sklearn', model_type='regressor')\n",
    "expander = dice_ml.Dice(data, model)"
   ]
  },
  {
   "cell_type": "code",
   "execution_count": 100,
   "metadata": {},
   "outputs": [],
   "source": [
    "features = {\n",
    "  'airline':1,\n",
    "  'source_city':3,\n",
    "  'departure_time':3,\n",
    "  'stops':2,\n",
    "  'arrival_time':5,\n",
    "  'destination_city':4,\n",
    "  'duration':1.95,\n",
    "  'days_left':19,\n",
    "  'flight_code':1,\n",
    "  'flight_no':669\n",
    "  }\n",
    "features_df  = pd.DataFrame([features])"
   ]
  },
  {
   "cell_type": "code",
   "execution_count": 101,
   "metadata": {},
   "outputs": [
    {
     "name": "stderr",
     "output_type": "stream",
     "text": [
      "100%|██████████| 1/1 [00:02<00:00,  2.14s/it]"
     ]
    },
    {
     "name": "stdout",
     "output_type": "stream",
     "text": [
      "Query instance (original outcome : 28766)\n"
     ]
    },
    {
     "name": "stderr",
     "output_type": "stream",
     "text": [
      "\n"
     ]
    },
    {
     "data": {
      "text/html": [
       "<div>\n",
       "<style scoped>\n",
       "    .dataframe tbody tr th:only-of-type {\n",
       "        vertical-align: middle;\n",
       "    }\n",
       "\n",
       "    .dataframe tbody tr th {\n",
       "        vertical-align: top;\n",
       "    }\n",
       "\n",
       "    .dataframe thead th {\n",
       "        text-align: right;\n",
       "    }\n",
       "</style>\n",
       "<table border=\"1\" class=\"dataframe\">\n",
       "  <thead>\n",
       "    <tr style=\"text-align: right;\">\n",
       "      <th></th>\n",
       "      <th>airline</th>\n",
       "      <th>source_city</th>\n",
       "      <th>departure_time</th>\n",
       "      <th>stops</th>\n",
       "      <th>arrival_time</th>\n",
       "      <th>destination_city</th>\n",
       "      <th>duration</th>\n",
       "      <th>days_left</th>\n",
       "      <th>flight_code</th>\n",
       "      <th>flight_no</th>\n",
       "      <th>price</th>\n",
       "    </tr>\n",
       "  </thead>\n",
       "  <tbody>\n",
       "    <tr>\n",
       "      <th>0</th>\n",
       "      <td>1</td>\n",
       "      <td>3</td>\n",
       "      <td>3</td>\n",
       "      <td>2</td>\n",
       "      <td>5</td>\n",
       "      <td>4</td>\n",
       "      <td>1.95</td>\n",
       "      <td>19</td>\n",
       "      <td>1</td>\n",
       "      <td>669</td>\n",
       "      <td>28766.0</td>\n",
       "    </tr>\n",
       "  </tbody>\n",
       "</table>\n",
       "</div>"
      ],
      "text/plain": [
       "   airline  source_city  departure_time  stops  arrival_time  \\\n",
       "0        1            3               3      2             5   \n",
       "\n",
       "   destination_city  duration  days_left  flight_code  flight_no    price  \n",
       "0                 4      1.95         19            1        669  28766.0  "
      ]
     },
     "metadata": {},
     "output_type": "display_data"
    },
    {
     "name": "stdout",
     "output_type": "stream",
     "text": [
      "\n",
      "Diverse Counterfactual set (new outcome: (0, 10000))\n"
     ]
    },
    {
     "data": {
      "text/html": [
       "<div>\n",
       "<style scoped>\n",
       "    .dataframe tbody tr th:only-of-type {\n",
       "        vertical-align: middle;\n",
       "    }\n",
       "\n",
       "    .dataframe tbody tr th {\n",
       "        vertical-align: top;\n",
       "    }\n",
       "\n",
       "    .dataframe thead th {\n",
       "        text-align: right;\n",
       "    }\n",
       "</style>\n",
       "<table border=\"1\" class=\"dataframe\">\n",
       "  <thead>\n",
       "    <tr style=\"text-align: right;\">\n",
       "      <th></th>\n",
       "      <th>airline</th>\n",
       "      <th>source_city</th>\n",
       "      <th>departure_time</th>\n",
       "      <th>stops</th>\n",
       "      <th>arrival_time</th>\n",
       "      <th>destination_city</th>\n",
       "      <th>duration</th>\n",
       "      <th>days_left</th>\n",
       "      <th>flight_code</th>\n",
       "      <th>flight_no</th>\n",
       "      <th>price</th>\n",
       "    </tr>\n",
       "  </thead>\n",
       "  <tbody>\n",
       "    <tr>\n",
       "      <th>0</th>\n",
       "      <td>1.0</td>\n",
       "      <td>3.0</td>\n",
       "      <td>3.0</td>\n",
       "      <td>0.0</td>\n",
       "      <td>5.0</td>\n",
       "      <td>4.0</td>\n",
       "      <td>1.95</td>\n",
       "      <td>19.0</td>\n",
       "      <td>1.0</td>\n",
       "      <td>1784.0</td>\n",
       "      <td>4180.167969</td>\n",
       "    </tr>\n",
       "    <tr>\n",
       "      <th>1</th>\n",
       "      <td>1.0</td>\n",
       "      <td>3.0</td>\n",
       "      <td>3.0</td>\n",
       "      <td>1.0</td>\n",
       "      <td>5.0</td>\n",
       "      <td>4.0</td>\n",
       "      <td>1.95</td>\n",
       "      <td>19.0</td>\n",
       "      <td>1.0</td>\n",
       "      <td>3416.0</td>\n",
       "      <td>5896.491699</td>\n",
       "    </tr>\n",
       "    <tr>\n",
       "      <th>2</th>\n",
       "      <td>1.0</td>\n",
       "      <td>3.0</td>\n",
       "      <td>3.0</td>\n",
       "      <td>1.0</td>\n",
       "      <td>5.0</td>\n",
       "      <td>4.0</td>\n",
       "      <td>1.95</td>\n",
       "      <td>19.0</td>\n",
       "      <td>1.0</td>\n",
       "      <td>2173.0</td>\n",
       "      <td>6285.244629</td>\n",
       "    </tr>\n",
       "  </tbody>\n",
       "</table>\n",
       "</div>"
      ],
      "text/plain": [
       "   airline  source_city  departure_time  stops  arrival_time  \\\n",
       "0      1.0          3.0             3.0    0.0           5.0   \n",
       "1      1.0          3.0             3.0    1.0           5.0   \n",
       "2      1.0          3.0             3.0    1.0           5.0   \n",
       "\n",
       "   destination_city  duration  days_left  flight_code  flight_no        price  \n",
       "0               4.0      1.95       19.0          1.0     1784.0  4180.167969  \n",
       "1               4.0      1.95       19.0          1.0     3416.0  5896.491699  \n",
       "2               4.0      1.95       19.0          1.0     2173.0  6285.244629  "
      ]
     },
     "metadata": {},
     "output_type": "display_data"
    }
   ],
   "source": [
    "\n",
    "counterfactuals = expander.generate_counterfactuals(features_df, total_CFs=3, desired_range=(0, 10000))\n",
    "counterfactuals.visualize_as_dataframe()"
   ]
  }
 ],
 "metadata": {
  "kernelspec": {
   "display_name": "Python 3",
   "language": "python",
   "name": "python3"
  },
  "language_info": {
   "codemirror_mode": {
    "name": "ipython",
    "version": 3
   },
   "file_extension": ".py",
   "mimetype": "text/x-python",
   "name": "python",
   "nbconvert_exporter": "python",
   "pygments_lexer": "ipython3",
   "version": "3.11.2"
  },
  "orig_nbformat": 4,
  "vscode": {
   "interpreter": {
    "hash": "2c0933f4f8ed7717f6a7bf07f43c011d493b6b9fd5869008d0fb29c39c3c52ec"
   }
  }
 },
 "nbformat": 4,
 "nbformat_minor": 2
}
